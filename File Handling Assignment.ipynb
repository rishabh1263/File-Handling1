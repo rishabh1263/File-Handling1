{
 "cells": [
  {
   "cell_type": "markdown",
   "id": "2deb7aa9",
   "metadata": {},
   "source": [
    "## THEORY QUESTIONS"
   ]
  },
  {
   "cell_type": "markdown",
   "id": "b622e64e",
   "metadata": {},
   "source": [
    "## Q1: What is the difference between interpreted and compiled languages?\n",
    "ANS:\n",
    "    Interpreted vs Compiled Languages – Short Answer:\n",
    "\n",
    "Compiled Language: Translates entire code into machine code before execution. Runs faster. Example: C, C++.\n",
    "\n",
    "Interpreted Language: Translates and runs code line-by-line during execution. Easier to debug, slower. Example: Python, JavaScript."
   ]
  },
  {
   "cell_type": "markdown",
   "id": "4f0db572",
   "metadata": {},
   "source": [
    "## Q2: What is exception handling in Python?\n",
    "ANS:\n",
    "Exception handling in Python is a way to manage errors that occur during program execution using try, except, else, and finally blocks. It helps prevent program crashes and allows graceful error recovery.\n",
    "    "
   ]
  },
  {
   "cell_type": "markdown",
   "id": "fa7ab9c6",
   "metadata": {},
   "source": [
    "## Q3 : What is the purpose of the finally block in exception handling0\n",
    "ANS:\n",
    "The finally block in exception handling is used to execute code regardless of whether an exception occurs or not. It's typically used for cleanup actions like closing files, releasing resources, or terminating connections."
   ]
  },
  {
   "cell_type": "markdown",
   "id": "a621fb2d",
   "metadata": {},
   "source": [
    "## Q4 : What is logging in Python?\n",
    "ANS:\n",
    "    Logging in Python is the process of recording messages about a program’s execution for debugging, monitoring, or auditing purposes using the built-in logging module. It helps track events, errors, and information instead of using print statements."
   ]
  },
  {
   "cell_type": "markdown",
   "id": "7a2ee411",
   "metadata": {},
   "source": [
    "## Q5 :What is the significance of the __del__ method in Python?\n",
    "ANS : The __del__ method in Python is a destructor called when an object is about to be destroyed. It's used to clean up resources like closing files or network connections. However, its use is discouraged due to unpredictability with garbage collection.\n",
    "\n",
    "Example:\n",
    "\n",
    "python\n",
    "Copy\n",
    "Edit\n",
    "def __del__(self):\n",
    "    print(\"Object is being destroyed\")\n",
    "Use it sparingly—prefer context managers (with statement) for resource management.\n",
    "\n",
    "\n",
    "\n",
    "\n",
    "\n",
    "\n",
    "\n",
    "\n"
   ]
  },
  {
   "cell_type": "markdown",
   "id": "8c840f4a",
   "metadata": {},
   "source": [
    "## Q6:  What is the difference between import and from ... import in Python0\n",
    "ANS : In Python:\n",
    "\n",
    "import module: Imports the entire module, and you access its functions or classes with module.function or module.class.\n",
    "\n",
    "from module import item: Imports a specific function, class, or variable from a module, allowing direct access to item without prefixing it with the module name.\n",
    "\n",
    "Example:\n",
    "\n",
    "import math → math.sqrt(4)\n",
    "\n",
    "from math import sqrt → sqrt(4)"
   ]
  },
  {
   "cell_type": "markdown",
   "id": "37492266",
   "metadata": {},
   "source": [
    "## Q7: How can you handle multiple exceptions in Python?\n",
    "ANS: In Python, you can handle multiple exceptions using multiple except blocks or by specifying multiple exceptions in a single except block. Here's a concise example:\n",
    "\n",
    "python\n",
    "Copy\n",
    "Edit\n",
    "try:\n",
    "    # code that may raise exceptions\n",
    "    pass\n",
    "except (TypeError, ValueError) as e:\n",
    "    print(f\"Caught an exception: {e}\")\n",
    "except KeyError as e:\n",
    "    print(f\"Key error occurred: {e}\")\n",
    "This way, you can catch different exceptions and handle them accordingly.\n",
    "\n",
    "\n",
    "\n",
    "\n",
    "\n",
    "\n",
    "\n",
    "\n",
    "\n",
    "    "
   ]
  },
  {
   "cell_type": "markdown",
   "id": "15bbd298",
   "metadata": {},
   "source": [
    "## Q8 : What is the purpose of the with statement when handling files in Python?\n",
    "ANS:\n",
    "    The with statement in Python is used for handling files (and other resources) to ensure proper resource management. It automatically handles the opening and closing of the file, even if an error occurs during file operations. This helps prevent resource leaks and makes the code more concise and readable.\n",
    "\n",
    "Example:\n",
    "\n",
    "python\n",
    "Copy\n",
    "Edit\n",
    "with open('file.txt', 'r') as file:\n",
    "    content = file.read()\n",
    "In this example, the file is automatically closed once the block inside the with statement is exited, even if an exception occurs."
   ]
  },
  {
   "cell_type": "markdown",
   "id": "6a11a1e4",
   "metadata": {},
   "source": [
    "## Q9: What is the difference between multithreading and multiprocessing?\n",
    "ANS:\n",
    "    Multithreading and multiprocessing are both techniques used to perform multiple tasks concurrently, but they differ in how they achieve it:\n",
    "\n",
    "Multithreading: Uses multiple threads within a single process. Threads share the same memory space, making communication easier but also increasing the risk of data corruption (due to shared resources).\n",
    "\n",
    "Use case: Suitable for tasks that are I/O bound, where threads wait for external resources (e.g., file reading or network requests).\n",
    "\n",
    "Multiprocessing: Uses multiple processes, each with its own memory space. This avoids issues with shared memory but comes with higher overhead due to inter-process communication (IPC).\n",
    "\n",
    "Use case: Best for CPU-bound tasks, where you need to leverage multiple CPU cores for parallel computation.\n",
    "\n",
    "Key Difference: Multithreading shares memory space, whereas multiprocessing uses separate memory for each process."
   ]
  },
  {
   "cell_type": "markdown",
   "id": "1919a5b2",
   "metadata": {},
   "source": [
    "## Q10 : What are the advantages of using logging in a program?\n",
    "ANS : Logging in a program offers several advantages:\n",
    "\n",
    "Debugging: Helps track issues and identify the cause of errors.\n",
    "\n",
    "Monitoring: Allows real-time monitoring of system performance and behavior.\n",
    "\n",
    "Error Tracking: Captures error details for post-mortem analysis and troubleshooting.\n",
    "\n",
    "Audit Trail: Provides a record of events and operations for security and compliance.\n",
    "\n",
    "Maintenance: Helps developers and operations teams maintain and improve the software by keeping track of important events and exceptions."
   ]
  },
  {
   "cell_type": "markdown",
   "id": "4d20fc31",
   "metadata": {},
   "source": [
    "## Q11 : WHAT IS MEMORY MANAGEMENT?\n",
    "ANS:\n",
    "    Memory management in Python is the process of efficiently allocating and deallocating memory for objects and data structures. Python uses automatic memory management, relying on a garbage collector to track and reclaim unused memory. Key aspects include:\n",
    "\n",
    "Reference Counting: Every object has a reference count, and when it drops to zero, the memory is freed.\n",
    "\n",
    "Garbage Collection: Python uses cyclic garbage collection to detect and clean up circular references.\n",
    "\n",
    "Memory Pools: Python uses memory pools to reduce overhead, allocating memory in blocks for small objects (via the \"pymalloc\" allocator).\n",
    "\n",
    "This combination ensures efficient memory handling in Python programs."
   ]
  },
  {
   "cell_type": "markdown",
   "id": "954df09c",
   "metadata": {},
   "source": [
    "## Q12 : What are the basic steps involved in exception handling in Python?\n",
    "ANS:\n",
    "    In Python, the basic steps for exception handling are:\n",
    "\n",
    "Try Block: Place code that might raise an exception inside the try block.\n",
    "\n",
    "Except Block: Handle exceptions using the except block, specifying the type of exception.\n",
    "\n",
    "Else Block: Optionally, use else to execute code if no exception occurs.\n",
    "\n",
    "Finally Block: Optionally, use finally to execute code regardless of an exception, typically for cleanup.\n",
    "\n",
    "Example:\n",
    "\n",
    "python\n",
    "Copy\n",
    "Edit\n",
    "try:\n",
    "    # code that might raise an exception\n",
    "except ExceptionType as e:\n",
    "    # handle exception\n",
    "else:\n",
    "    # code if no exception\n",
    "finally:\n",
    "    # cleanup code"
   ]
  },
  {
   "cell_type": "markdown",
   "id": "72aa946f",
   "metadata": {},
   "source": [
    "## Q13 : Why is memory management important in Python/\n",
    "ANS:\n",
    "Memory management in Python is crucial because it ensures efficient use of system resources by automatically handling the allocation and deallocation of memory. Python uses garbage collection to manage memory, which helps prevent memory leaks and reduces the chances of crashes due to memory exhaustion. Efficient memory management improves performance and optimizes resource utilization, especially for large-scale applications.\n",
    "\n",
    "\n",
    "\n",
    "\n",
    "\n",
    "\n",
    "\n",
    "\n"
   ]
  },
  {
   "cell_type": "markdown",
   "id": "d4c3f7b7",
   "metadata": {},
   "source": [
    "## Q14 : What is the role of try and except in exception handling\n",
    "ANS : In Python, try and except are used for exception handling. The try block contains code that may raise an exception, and the except block handles the exception if it occurs. This allows the program to continue running instead of crashing. The except block catches specific exceptions, providing a way to gracefully handle errors."
   ]
  },
  {
   "cell_type": "markdown",
   "id": "dcb43436",
   "metadata": {},
   "source": [
    "## Q15 :  How does Python's garbage collection system work?\n",
    "ANS :  \n",
    "    Python's garbage collection system manages memory by automatically reclaiming unused memory. It primarily uses two mechanisms:\n",
    "\n",
    "Reference Counting: Each object has a reference count, and when the count drops to zero, the object is immediately deallocated.\n",
    "\n",
    "Cyclic Garbage Collector: Python also detects and cleans up circular references (objects referencing each other) through a cyclic garbage collector, which is triggered periodically.\n",
    "\n",
    "This ensures efficient memory management without manual intervention, though developers can influence it"
   ]
  },
  {
   "cell_type": "markdown",
   "id": "bc78a6db",
   "metadata": {},
   "source": [
    "## Q16 : What is the purpose of the else block in exception handling\n",
    "ANS :\n",
    "In exception handling, the else block is used to define code that runs only if no exception was raised in the try block. It helps separate the normal execution path from error handling, ensuring that the code in the else block only executes when no exceptions occur."
   ]
  },
  {
   "cell_type": "markdown",
   "id": "8270e325",
   "metadata": {},
   "source": [
    "## Q17 : What are the common logging levels in Python\n",
    "ANS :\n",
    "In Python, the common logging levels are:\n",
    "\n",
    "DEBUG: Detailed information, typically useful for diagnosing issues.\n",
    "\n",
    "INFO: General information about program execution.\n",
    "\n",
    "WARNING: Indicates something unexpected happened or might happen, but the program can continue.\n",
    "\n",
    "ERROR: Indicates a more serious issue that affects the program’s functionality.\n",
    "\n",
    "CRITICAL: A very serious error that may prevent the program from running.\n",
    "\n",
    "These levels are used to indicate the severity of log messages."
   ]
  },
  {
   "cell_type": "markdown",
   "id": "52202ee6",
   "metadata": {},
   "source": [
    "## Q18 : What is the difference between os.fork() and multiprocessing in Python\n",
    "ANS :\n",
    "    os.fork(): It creates a new child process by duplicating the parent process. The child process receives a copy of the parent's memory, file descriptors, and state. It is available only on Unix-like systems and doesn't support parallel processing efficiently due to Global Interpreter Lock (GIL).\n",
    "\n",
    "multiprocessing: It creates separate processes that run in parallel, bypassing Python's GIL. It supports cross-platform development (Windows and Unix-like systems) and is more suitable for CPU-bound tasks as it allows true parallelism.\n",
    "\n",
    "In summary, os.fork() creates a child process by cloning the parent, while multiprocessing is a higher-level API designed for parallel processing, working across platforms and enabling true parallelism."
   ]
  },
  {
   "cell_type": "markdown",
   "id": "8738641d",
   "metadata": {},
   "source": [
    "## Q19 : What is the importance of closing a file in Python\n",
    "ANS : \n",
    "Closing a file in Python is important to:\n",
    "\n",
    "Release Resources: It frees up system resources, such as file handles, which are limited.\n",
    "\n",
    "Ensure Data Integrity: It ensures all changes are written to the file and prevents data loss.\n",
    "\n",
    "Prevent Memory Leaks: It prevents memory leaks by properly closing file buffers.\n",
    "\n",
    "Avoid File Locks: It avoids potential file lock issues when other processes need access to the file.\n",
    "\n",
    "Always use file.close() or with open() to ensure proper file closure."
   ]
  },
  {
   "cell_type": "markdown",
   "id": "afc754c7",
   "metadata": {},
   "source": [
    "## Q20 : What is the difference between file.read() and file.readline() in Python\n",
    "ANS :\n",
    "    file.read(): Reads the entire content of the file as a single string.\n",
    "\n",
    "file.readline(): Reads one line from the file at a time, returning it as a string.\n",
    "\n",
    "Use read() for entire content and readline() when processing line-by-line."
   ]
  },
  {
   "cell_type": "markdown",
   "id": "7b615086",
   "metadata": {},
   "source": [
    "## Q21 : What is the logging module in Python used for?\n",
    "ANS: The logging module in Python is used for tracking events that occur during program execution. It allows you to log messages at different severity levels (e.g., DEBUG, INFO, WARNING, ERROR, CRITICAL) and provides a way to output logs to different destinations (e.g., console, files). It's useful for debugging, monitoring, and auditing applications.\n",
    "    "
   ]
  },
  {
   "cell_type": "markdown",
   "id": "ecfafb62",
   "metadata": {},
   "source": [
    "## Q22 : What is the os module in Python used for in file handling?\n",
    "ANS :\n",
    "    The os module in Python provides a way to interact with the operating system. In file handling, it is used for tasks such as:\n",
    "\n",
    "Creating, deleting, and renaming files and directories.\n",
    "\n",
    "Navigating the file system (e.g., changing directories).\n",
    "\n",
    "Checking file properties (e.g., existence, size).\n",
    "\n",
    "Managing file paths and directories.\n",
    "\n",
    "It allows for platform-independent operations when working with files and directories."
   ]
  },
  {
   "cell_type": "markdown",
   "id": "ccb7bd3f",
   "metadata": {},
   "source": [
    "## Q23 :  What are the challenges associated with memory management in Python?\n",
    "ANS :\n",
    "    In Python, memory management poses several challenges:\n",
    "\n",
    "Garbage Collection: Python uses automatic garbage collection, but it can be inefficient in certain scenarios, leading to memory leaks.\n",
    "\n",
    "Memory Overhead: Python's dynamic typing and object-oriented nature introduce overhead, which increases memory consumption.\n",
    "\n",
    "Object References: Multiple references to the same object can complicate memory management, leading to unexpected memory retention.\n",
    "\n",
    "Fragmentation: The memory allocation system can suffer from fragmentation, leading to inefficient memory usage.\n",
    "\n",
    "Global Interpreter Lock (GIL): The GIL can limit memory access in multi-threaded environments, affecting performance.\n",
    "\n",
    "These challenges can impact memory usage and performance, particularly in large applications or real-time systems.\n",
    "    "
   ]
  },
  {
   "cell_type": "markdown",
   "id": "b2786acd",
   "metadata": {},
   "source": [
    "## Q24 : How do you raise an exception manually in Python?\n",
    "ANS: In Python, you can raise an exception manually using the raise keyword. For example:\n",
    "\n",
    "python\n",
    "Copy\n",
    "Edit\n",
    "raise Exception(\"This is an error message\")\n",
    "You can also raise specific exceptions:\n",
    "\n",
    "python\n",
    "Copy\n",
    "Edit\n",
    "raise ValueError(\"Invalid value\")\n",
    "    "
   ]
  },
  {
   "cell_type": "markdown",
   "id": "9246e5a4",
   "metadata": {},
   "source": [
    "## Q25 : Why is it important to use multithreading in certain applications?\n",
    "ANS :\n",
    "Multithreading is important in certain applications because it allows multiple tasks to be executed concurrently, improving the efficiency and responsiveness of the application. It helps in maximizing CPU utilization, reducing processing time, and enhancing user experience, especially in I/O-bound or compute-intensive applications"
   ]
  },
  {
   "cell_type": "code",
   "execution_count": null,
   "id": "888c494e",
   "metadata": {},
   "outputs": [],
   "source": [
    "## PRACTICAL QUESTIONS"
   ]
  },
  {
   "cell_type": "code",
   "execution_count": null,
   "id": "e45a105e",
   "metadata": {},
   "outputs": [],
   "source": [
    "## Q1:  How can you open a file for writing in Python and write a string to it"
   ]
  },
  {
   "cell_type": "code",
   "execution_count": null,
   "id": "7693be9d",
   "metadata": {},
   "outputs": [],
   "source": [
    "with open(\"rishabh.txt\", 'w') as f:\n",
    "    f.write(\"This is my first line\\n\")\n",
    "    f.write(\"this is my second line\")"
   ]
  },
  {
   "cell_type": "code",
   "execution_count": null,
   "id": "ab3441ab",
   "metadata": {},
   "outputs": [],
   "source": [
    "## Q2 : Write a Python program to read the contents of a file and print each line"
   ]
  },
  {
   "cell_type": "code",
   "execution_count": null,
   "id": "76a617d3",
   "metadata": {},
   "outputs": [],
   "source": [
    "with open(\"rishabh.txt\", 'r') as f:\n",
    "    for i in f:\n",
    "        print(i)"
   ]
  },
  {
   "cell_type": "code",
   "execution_count": null,
   "id": "e76a854c",
   "metadata": {},
   "outputs": [],
   "source": [
    "## Q3 :  How would you handle a case where the file doesn't exist while trying to open it for reading"
   ]
  },
  {
   "cell_type": "code",
   "execution_count": null,
   "id": "7c0f6cdf",
   "metadata": {},
   "outputs": [],
   "source": [
    "filename = \"rishabh.txt\"\n",
    "\n",
    "try:\n",
    "    with open(filename, 'r') as file:\n",
    "        for line in file:\n",
    "            print(line.strip())\n",
    "except FileNotFoundError:\n",
    "    print(f\"Error: The file '{filename}' was not found.\")\n"
   ]
  },
  {
   "cell_type": "code",
   "execution_count": null,
   "id": "1d352da6",
   "metadata": {},
   "outputs": [],
   "source": [
    "## Q4 : Write a Python script that reads from one file and writes its content to another file"
   ]
  },
  {
   "cell_type": "code",
   "execution_count": null,
   "id": "4ad9f955",
   "metadata": {},
   "outputs": [],
   "source": [
    "\n",
    "source_file = \"source.txt\"\n",
    "destination_file = \"destination.txt\"\n",
    "\n",
    "try:\n",
    "    \n",
    "    with open(source_file, 'r') as src:\n",
    "        content = src.read()  \n",
    "\n",
    "\n",
    "    with open(destination_file, 'w') as dest:\n",
    "        dest.write(content)  \n",
    "\n",
    "    print(f\"Contents copied from '{source_file}' to '{destination_file}' successfully.\")\n",
    "\n",
    "except FileNotFoundError:\n",
    "    print(f\"Error: The file '{source_file}' was not found.\")\n",
    "except Exception as e:\n",
    "    print(f\"An unexpected error occurred: {e}\")\n"
   ]
  },
  {
   "cell_type": "code",
   "execution_count": null,
   "id": "4a546507",
   "metadata": {},
   "outputs": [],
   "source": [
    "## Q5 : How would you catch and handle division by zero error in Python"
   ]
  },
  {
   "cell_type": "code",
   "execution_count": null,
   "id": "23ddb922",
   "metadata": {},
   "outputs": [],
   "source": [
    "try :\n",
    "    15/0\n",
    "except ZeroDivisionError as e :\n",
    "    print(f\"AN error occured {e}\")"
   ]
  },
  {
   "cell_type": "code",
   "execution_count": null,
   "id": "bf94e1d0",
   "metadata": {},
   "outputs": [],
   "source": [
    "## Q6 : Write a Python program that logs an error message to a log file when a division by zero exception occursF"
   ]
  },
  {
   "cell_type": "code",
   "execution_count": null,
   "id": "6e352838",
   "metadata": {},
   "outputs": [],
   "source": [
    "import logging\n",
    "\n",
    "# Configure logging\n",
    "logging.basicConfig(filename='error_log.txt', level=logging.ERROR,\n",
    "                    format='%(asctime)s - %(levelname)s - %(message)s')\n",
    "\n",
    "def divide(a, b):\n",
    "    try:\n",
    "        result = a / b\n",
    "        print(f\"Result: {result}\")\n",
    "        return result\n",
    "    except ZeroDivisionError as e:\n",
    "        logging.error(\"Attempted to divide by zero\")\n",
    "        print(\"Error: Division by zero is not allowed.\")\n",
    "\n",
    "num1 = 10\n",
    "num2 = 0\n",
    "divide(num1, num2)\n"
   ]
  },
  {
   "cell_type": "code",
   "execution_count": null,
   "id": "8f8962ab",
   "metadata": {},
   "outputs": [],
   "source": [
    "## Q7 : How do you log information at different levels (INFO, ERROR, WARNING) in Python using the logging module\u001f\n"
   ]
  },
  {
   "cell_type": "code",
   "execution_count": null,
   "id": "c06e8404",
   "metadata": {},
   "outputs": [],
   "source": [
    "import logging\n",
    "\n",
    "logging.basicConfig(\n",
    "    filename='app_log.txt',\n",
    "    level=logging.DEBUG, \n",
    "    format='%(asctime)s - %(levelname)s - %(message)s'\n",
    ")\n",
    "\n",
    "logging.debug(\"This is a DEBUG message, useful for developers.\")\n",
    "logging.info(\"This is an INFO message, useful for confirming things work.\")\n",
    "logging.warning(\"This is a WARNING message, something unexpected happened.\")\n",
    "logging.error(\"This is an ERROR message, something went wrong.\")\n",
    "logging.critical(\"This is a CRITICAL message, very serious problem.\")\n"
   ]
  },
  {
   "cell_type": "code",
   "execution_count": null,
   "id": "8c13307f",
   "metadata": {},
   "outputs": [],
   "source": [
    "## Q8 :Write a program to handle a file opening error using exception handling"
   ]
  },
  {
   "cell_type": "code",
   "execution_count": null,
   "id": "4e275533",
   "metadata": {},
   "outputs": [],
   "source": [
    "try:\n",
    "    with open (\"atharv.txt\", 'r') as f:\n",
    "        log = f.write(\"This is the content\")\n",
    "        print(log)\n",
    "except FileNotFoundError as e :\n",
    "    print(f\"Something wrong happens{e}\")\n",
    "finally:\n",
    "    print(\"Program ends\")"
   ]
  },
  {
   "cell_type": "code",
   "execution_count": null,
   "id": "7043d346",
   "metadata": {},
   "outputs": [],
   "source": [
    "## Q9: How can you read a file line by line and store its content in a list in Python\u001f\n",
    "\n"
   ]
  },
  {
   "cell_type": "code",
   "execution_count": null,
   "id": "3d6ed837",
   "metadata": {},
   "outputs": [],
   "source": [
    "with open(\"rishi.txt\", 'w') as f:\n",
    "    f.write(\"This is the first line\\n\")\n",
    "    f.write(\"This is the second line\\n\")"
   ]
  },
  {
   "cell_type": "code",
   "execution_count": null,
   "id": "319566e6",
   "metadata": {},
   "outputs": [],
   "source": [
    "with open(\"rishi.txt\", 'r') as f:\n",
    "    log = f.readlines()\n",
    "    print(log)"
   ]
  },
  {
   "cell_type": "code",
   "execution_count": null,
   "id": "f33777e8",
   "metadata": {},
   "outputs": [],
   "source": [
    "## Q10 : How can you append data to an existing file in Python"
   ]
  },
  {
   "cell_type": "code",
   "execution_count": null,
   "id": "779026be",
   "metadata": {},
   "outputs": [],
   "source": [
    "with open(\"rishi.txt\", 'a') as f:\n",
    "    f.write(\"This is the appended line \")"
   ]
  },
  {
   "cell_type": "code",
   "execution_count": null,
   "id": "840baa9e",
   "metadata": {},
   "outputs": [],
   "source": [
    "## Q11 :  Write a Python program that uses a try-except block to handle an error when attempting to access a\n",
    "#dictionary key that doesn't exist"
   ]
  },
  {
   "cell_type": "code",
   "execution_count": null,
   "id": "e7921c7a",
   "metadata": {},
   "outputs": [],
   "source": [
    "d = {\"name\":\"Rishabh\", \"surname\": \"singh\"}"
   ]
  },
  {
   "cell_type": "code",
   "execution_count": null,
   "id": "09ca897a",
   "metadata": {},
   "outputs": [],
   "source": [
    "d['name']"
   ]
  },
  {
   "cell_type": "code",
   "execution_count": null,
   "id": "bfc5f293",
   "metadata": {},
   "outputs": [],
   "source": [
    "try:\n",
    "    d['age']\n",
    "except KeyError as e:\n",
    "    print(f\"Something wrong happend{e}\")\n",
    "finally:\n",
    "    print(\"Program ends\")\n",
    "    "
   ]
  },
  {
   "cell_type": "code",
   "execution_count": null,
   "id": "de781043",
   "metadata": {},
   "outputs": [],
   "source": [
    "## Q12 : Write a program that demonstrates using multiple except blocks to handle different types of exceptions"
   ]
  },
  {
   "cell_type": "code",
   "execution_count": null,
   "id": "60133c21",
   "metadata": {},
   "outputs": [],
   "source": [
    "try:\n",
    "    10/0\n",
    "except (ZeroDivisionError) as e:\n",
    "    print(\"Error found\", e)\n",
    "try:\n",
    "    import rishabh\n",
    "except ModuleNotFoundError as e:\n",
    "    print(\"Again error found\", e)\n",
    "finally:\n",
    "    print(\"Program ends\")"
   ]
  },
  {
   "cell_type": "code",
   "execution_count": null,
   "id": "763cb5ed",
   "metadata": {},
   "outputs": [],
   "source": [
    "## Q13 : F How would you check if a file exists before attempting to read it in Python\u001f"
   ]
  },
  {
   "cell_type": "code",
   "execution_count": null,
   "id": "38c9dfc2",
   "metadata": {},
   "outputs": [],
   "source": [
    "import os\n",
    "\n",
    "file_path = 'example.txt'\n",
    "\n",
    "if os.path.exists(file_path):\n",
    "    with open(file_path, 'r') as file:\n",
    "        content = file.read()\n",
    "        print(content)\n",
    "else:\n",
    "    print(\"File does not exist.\")\n"
   ]
  },
  {
   "cell_type": "code",
   "execution_count": null,
   "id": "d198c461",
   "metadata": {},
   "outputs": [],
   "source": [
    "## Q14 : Write a program that uses the logging module to log both informational and error messagesF"
   ]
  },
  {
   "cell_type": "code",
   "execution_count": null,
   "id": "4cf7ee19",
   "metadata": {},
   "outputs": [],
   "source": [
    "import logging\n",
    "\n",
    "\n",
    "logging.basicConfig(level=logging.DEBUG, format='%(asctime)s - %(levelname)s - %(message)s')\n",
    "\n",
    "\n",
    "logging.info('This is an informational message.')\n",
    "\n",
    "\n",
    "logging.warning('This is a warning message.')\n",
    "\n",
    "logging.error('This is an error message.')\n",
    "\n",
    "\n",
    "logging.critical('This is a critical error message.')\n",
    "\n",
    "try:\n",
    "    result = 10 / 0  \n",
    "except ZeroDivisionError as e:\n",
    "    logging.exception('An exception occurred while dividing by zero.')\n"
   ]
  },
  {
   "cell_type": "code",
   "execution_count": null,
   "id": "a0814af3",
   "metadata": {},
   "outputs": [],
   "source": [
    "## Q15 : \n",
    "def read_file(file_path):\n",
    "    try:\n",
    "        with open(file_path, 'r') as file:\n",
    "            content = file.read()\n",
    "\n",
    "            if content.strip() == \"\":\n",
    "                print(\"The file is empty.\")\n",
    "            else:\n",
    "                print(\"File content:\\n\")\n",
    "                print(content)\n",
    "\n",
    "    except FileNotFoundError:\n",
    "        print(f\"Error: The file '{file_path}' does not exist.\")\n",
    "    except Exception as e:\n",
    "        print(f\"An unexpected error occurred: {e}\")\n",
    "\n",
    "file_name = 'example.txt'\n",
    "read_file(file_name)\n"
   ]
  },
  {
   "cell_type": "code",
   "execution_count": null,
   "id": "a9ae1976",
   "metadata": {},
   "outputs": [],
   "source": [
    "## Q16 : Demonstrate how to use memory profiling to check the memory usage of a small programF"
   ]
  },
  {
   "cell_type": "code",
   "execution_count": null,
   "id": "3d4feaa1",
   "metadata": {},
   "outputs": [],
   "source": [
    "pip install memory-profiler\n"
   ]
  },
  {
   "cell_type": "code",
   "execution_count": null,
   "id": "559efb1f",
   "metadata": {},
   "outputs": [],
   "source": [
    "from memory_profiler import profile\n",
    "\n",
    "@profile\n",
    "def create_large_list():\n",
    "    big_list = [i for i in range(1000000)]\n",
    "    return sum(big_list)\n",
    "\n",
    "if __name__ == \"__main__\":\n",
    "    result = create_large_list()\n",
    "    print(\"Sum is:\", result)\n"
   ]
  },
  {
   "cell_type": "code",
   "execution_count": null,
   "id": "f0b7c0fe",
   "metadata": {},
   "outputs": [],
   "source": [
    "## Q17 : Write a Python program to create and write a list of numbers to a file, one number per lineF"
   ]
  },
  {
   "cell_type": "code",
   "execution_count": null,
   "id": "c1ff58ed",
   "metadata": {},
   "outputs": [],
   "source": [
    "def write_numbers_to_file(file_name, numbers):\n",
    "    try:\n",
    "        with open(file_name, 'w') as file:\n",
    "            for number in numbers:\n",
    "                file.write(f\"{number}\\n\")\n",
    "        print(f\"Numbers successfully written to '{file_name}'.\")\n",
    "    except Exception as e:\n",
    "        print(f\"An error occurred: {e}\")\n",
    "\n",
    "# Example usage\n",
    "number_list = [1, 2, 3, 4, 5, 10, 20, 30]\n",
    "file_name = \"numbers.txt\"\n",
    "\n",
    "write_numbers_to_file(file_name, number_list)\n"
   ]
  },
  {
   "cell_type": "code",
   "execution_count": null,
   "id": "77ff2736",
   "metadata": {},
   "outputs": [],
   "source": [
    "## Q18 : How would you implement a basic logging setup that logs to a file with rotation after 1MB\u001f"
   ]
  },
  {
   "cell_type": "code",
   "execution_count": null,
   "id": "f1fc51f4",
   "metadata": {},
   "outputs": [],
   "source": [
    "import logging\n",
    "from logging.handlers import RotatingFileHandler\n",
    "\n",
    "\n",
    "log_file = 'app.log'\n",
    "max_log_size = 1 * 1024 * 1024  \n",
    "backup_count = 3  \n",
    "\n",
    "logger = logging.getLogger('MyLogger')\n",
    "logger.setLevel(logging.DEBUG)\n",
    "\n",
    "\n",
    "handler = RotatingFileHandler(log_file, maxBytes=max_log_size, backupCount=backup_count)\n",
    "formatter = logging.Formatter('%(asctime)s - %(levelname)s - %(message)s')\n",
    "handler.setFormatter(formatter)\n",
    "\n",
    "\n",
    "logger.addHandler(handler)\n",
    "\n",
    "\n",
    "for i in range(10000):\n",
    "    logger.info(f\"This is log message number {i}\")\n"
   ]
  },
  {
   "cell_type": "code",
   "execution_count": null,
   "id": "5aeb085f",
   "metadata": {},
   "outputs": [],
   "source": [
    "## Q19 : Write a program that handles both IndexError and KeyError using a try-except blockF"
   ]
  },
  {
   "cell_type": "code",
   "execution_count": null,
   "id": "1a43627f",
   "metadata": {},
   "outputs": [],
   "source": [
    "my_list = [10, 20, 30]\n",
    "my_dict = {\"name\": \"Rishabh\", \"age\": 21}\n",
    "\n",
    "try:\n",
    "    print(my_list[5])         # IndexError\n",
    "    print(my_dict['gender'])  # KeyError\n",
    "\n",
    "except (IndexError, KeyError) as e:\n",
    "    print(f\"Error: {e}\")\n",
    "\n",
    "finally:\n",
    "    print(\"Done.\")\n"
   ]
  },
  {
   "cell_type": "code",
   "execution_count": null,
   "id": "6b0177fb",
   "metadata": {},
   "outputs": [],
   "source": [
    "## Q20:\n",
    "file_path = 'example.txt'\n",
    "\n",
    "with open(file_path, 'r') as file:\n",
    "    content = file.read()\n",
    "    print(content)\n"
   ]
  },
  {
   "cell_type": "code",
   "execution_count": null,
   "id": "b0b4a22d",
   "metadata": {},
   "outputs": [],
   "source": [
    "## Q21 :\n",
    "\n",
    "def count_word_occurrences(file_path, target_word):\n",
    "    try:\n",
    "        with open(file_path, 'r') as file:\n",
    "            content = file.read().lower()  # Convert to lowercase for case-insensitive match\n",
    "            word_count = content.split().count(target_word.lower())\n",
    "            print(f\"The word '{target_word}' appears {word_count} time(s) in the file.\")\n",
    "    except FileNotFoundError:\n",
    "        print(\"File not found.\")\n",
    "    except Exception as e:\n",
    "        print(f\"An error occurred: {e}\")\n",
    "\n",
    "# Example usage\n",
    "file_name = 'example.txt'\n",
    "word_to_search = 'python'\n",
    "\n",
    "count_word_occurrences(file_name, word_to_search)\n"
   ]
  },
  {
   "cell_type": "code",
   "execution_count": null,
   "id": "759b2aad",
   "metadata": {},
   "outputs": [],
   "source": [
    "##Q22 :  F How can you check if a file is empty before attempting to read its contents\u001f"
   ]
  },
  {
   "cell_type": "code",
   "execution_count": null,
   "id": "2b983fff",
   "metadata": {},
   "outputs": [],
   "source": []
  },
  {
   "cell_type": "code",
   "execution_count": null,
   "id": "54cfe9c4",
   "metadata": {},
   "outputs": [],
   "source": [
    "import os\n",
    "\n",
    "file_path = 'example.txt'\n",
    "\n",
    "if os.path.getsize(file_path) == 0:\n",
    "    print(\"The file is empty.\")\n",
    "else:\n",
    "    with open(file_path, 'r') as file:\n",
    "        print(file.read())\n"
   ]
  },
  {
   "cell_type": "code",
   "execution_count": null,
   "id": "db655131",
   "metadata": {},
   "outputs": [],
   "source": [
    "## Q23: \n",
    "import logging\n",
    "\n",
    "logging.basicConfig(filename='error_log.txt', level=logging.ERROR,\n",
    "                    format='%(asctime)s - %(levelname)s - %(message)s')\n",
    "\n",
    "def read_file(file_path):\n",
    "    try:\n",
    "        with open(file_path, 'r') as file:\n",
    "            print(file.read())\n",
    "    except Exception as e:\n",
    "        logging.error(f\"Failed to read file '{file_path}': {e}\")\n",
    "        print(\"An error occurred. Check 'error_log.txt' for details.\")\n",
    "\n",
    "\n",
    "read_file('non_existing_file.txt')\n"
   ]
  },
  {
   "cell_type": "code",
   "execution_count": null,
   "id": "403c7e5d",
   "metadata": {},
   "outputs": [],
   "source": []
  }
 ],
 "metadata": {
  "kernelspec": {
   "display_name": "Python 3 (ipykernel)",
   "language": "python",
   "name": "python3"
  },
  "language_info": {
   "codemirror_mode": {
    "name": "ipython",
    "version": 3
   },
   "file_extension": ".py",
   "mimetype": "text/x-python",
   "name": "python",
   "nbconvert_exporter": "python",
   "pygments_lexer": "ipython3",
   "version": "3.9.21"
  }
 },
 "nbformat": 4,
 "nbformat_minor": 5
}
